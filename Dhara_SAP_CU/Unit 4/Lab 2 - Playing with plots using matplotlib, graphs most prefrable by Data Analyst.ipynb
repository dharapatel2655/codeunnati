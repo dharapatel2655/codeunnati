{
 "cells": [
  {
   "cell_type": "markdown",
   "id": "5a18e154",
   "metadata": {},
   "source": [
    "# Lab 2 - Playing with plots using matplotlib, graphs most prefrable by Data Analyst"
   ]
  },
  {
   "cell_type": "markdown",
   "id": "6b0167b2",
   "metadata": {},
   "source": [
    "# Exercises\n",
    "\n",
    "\n",
    "# Program 1 - Create a figure object and put two axes on it, ax1 and ax2. Located at [0,0,1,1] and [0.2,0.5,.2,.2] respectively"
   ]
  },
  {
   "cell_type": "code",
   "execution_count": null,
   "id": "9f09ae50",
   "metadata": {},
   "outputs": [],
   "source": []
  }
 ],
 "metadata": {
  "kernelspec": {
   "display_name": "Python 3 (ipykernel)",
   "language": "python",
   "name": "python3"
  },
  "language_info": {
   "codemirror_mode": {
    "name": "ipython",
    "version": 3
   },
   "file_extension": ".py",
   "mimetype": "text/x-python",
   "name": "python",
   "nbconvert_exporter": "python",
   "pygments_lexer": "ipython3",
   "version": "3.9.12"
  }
 },
 "nbformat": 4,
 "nbformat_minor": 5
}
