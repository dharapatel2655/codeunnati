{
 "cells": [
  {
   "cell_type": "markdown",
   "id": "783bc995",
   "metadata": {},
   "source": [
    "# Lab 2-CRUD Operation of MongoDB Using Python"
   ]
  },
  {
   "cell_type": "code",
   "execution_count": 12,
   "id": "a951db9e",
   "metadata": {},
   "outputs": [],
   "source": [
    "import pymongo"
   ]
  },
  {
   "cell_type": "code",
   "execution_count": 13,
   "id": "6ce8fc90",
   "metadata": {},
   "outputs": [],
   "source": [
    "myclient=pymongo.MongoClient(\"mongodb://locahost:27017/\")"
   ]
  },
  {
   "cell_type": "markdown",
   "id": "05837e95",
   "metadata": {},
   "source": [
    "# Creating new database and collection in MongoDB"
   ]
  },
  {
   "cell_type": "code",
   "execution_count": 8,
   "id": "a95b6b18",
   "metadata": {},
   "outputs": [],
   "source": [
    "infosys_db=myclient[\"infosys_db\"]"
   ]
  },
  {
   "cell_type": "code",
   "execution_count": 10,
   "id": "9faba507",
   "metadata": {},
   "outputs": [],
   "source": [
    "emp_coll=infosys_db['emp_coll']"
   ]
  },
  {
   "cell_type": "markdown",
   "id": "04505868",
   "metadata": {},
   "source": [
    "# However,the database and the collection are not created until.them.lets fill them with data"
   ]
  },
  {
   "cell_type": "code",
   "execution_count": 14,
   "id": "56252f4c",
   "metadata": {},
   "outputs": [
    {
     "data": {
      "text/plain": [
       "{'Name': 'Dhara',\n",
       " 'Age': 18,\n",
       " 'State': 'Gujarat',\n",
       " 'profile': 'Developer',\n",
       " 'Salary': 78000,\n",
       " 'Experience': 6,\n",
       " 'skills': ['PHP', 'MySQL']}"
      ]
     },
     "execution_count": 14,
     "metadata": {},
     "output_type": "execute_result"
    }
   ],
   "source": [
    "emp_coll={\n",
    "    \"Name\":\"Dhara\",\n",
    "    \"Age\":18,\n",
    "    \"State\":\"Gujarat\",\n",
    "    \"profile\":\"Developer\",\n",
    "    \"Salary\":78000,\n",
    "    \"Experience\":6,\n",
    "    \"skills\":[\"PHP\",\"MySQL\"]\n",
    "    \n",
    "}\n",
    "{\n",
    "    \"Name\":\"Dhara\",\n",
    "    \"Age\":18,\n",
    "    \"State\":\"Gujarat\",\n",
    "    \"profile\":\"Developer\",\n",
    "    \"Salary\":78000,\n",
    "    \"Experience\":6,\n",
    "    \"skills\":[\"PHP\",\"MySQL\"]\n",
    "    \n",
    "}\n",
    "{\n",
    "    \"Name\":\"Dhara\",\n",
    "    \"Age\":18,\n",
    "    \"State\":\"Gujarat\",\n",
    "    \"profile\":\"Developer\",\n",
    "    \"Salary\":78000,\n",
    "    \"Experience\":6,\n",
    "    \"skills\":[\"PHP\",\"MySQL\"]\n",
    "    \n",
    "}"
   ]
  },
  {
   "cell_type": "code",
   "execution_count": 13,
   "id": "d0341f7c",
   "metadata": {},
   "outputs": [
    {
     "ename": "NameError",
     "evalue": "name 'emp_call' is not defined",
     "output_type": "error",
     "traceback": [
      "\u001b[1;31m---------------------------------------------------------------------------\u001b[0m",
      "\u001b[1;31mNameError\u001b[0m                                 Traceback (most recent call last)",
      "Input \u001b[1;32mIn [13]\u001b[0m, in \u001b[0;36m<cell line: 1>\u001b[1;34m()\u001b[0m\n\u001b[1;32m----> 1\u001b[0m emp\u001b[38;5;241m=\u001b[39m\u001b[43memp_call\u001b[49m\u001b[38;5;241m.\u001b[39minsert_many(emp_data)\n",
      "\u001b[1;31mNameError\u001b[0m: name 'emp_call' is not defined"
     ]
    }
   ],
   "source": [
    "emp=emp_call.insert_many(emp_data)"
   ]
  },
  {
   "cell_type": "markdown",
   "id": "f03bb9eb",
   "metadata": {},
   "source": [
    "# Reading Document"
   ]
  },
  {
   "cell_type": "code",
   "execution_count": 16,
   "id": "8c0e036b",
   "metadata": {},
   "outputs": [],
   "source": [
    "results=emp_coll.find()"
   ]
  },
  {
   "cell_type": "code",
   "execution_count": 17,
   "id": "4591054e",
   "metadata": {},
   "outputs": [
    {
     "data": {
      "text/plain": [
       "<pymongo.cursor.Cursor at 0x20284839430>"
      ]
     },
     "execution_count": 17,
     "metadata": {},
     "output_type": "execute_result"
    }
   ],
   "source": [
    "results"
   ]
  },
  {
   "cell_type": "code",
   "execution_count": 2,
   "id": "a3503fab",
   "metadata": {},
   "outputs": [
    {
     "ename": "NameError",
     "evalue": "name 'results' is not defined",
     "output_type": "error",
     "traceback": [
      "\u001b[1;31m---------------------------------------------------------------------------\u001b[0m",
      "\u001b[1;31mNameError\u001b[0m                                 Traceback (most recent call last)",
      "Input \u001b[1;32mIn [2]\u001b[0m, in \u001b[0;36m<cell line: 1>\u001b[1;34m()\u001b[0m\n\u001b[1;32m----> 1\u001b[0m \u001b[38;5;28;01mfor\u001b[39;00m data \u001b[38;5;129;01min\u001b[39;00m \u001b[43mresults\u001b[49m:\n\u001b[0;32m      2\u001b[0m     \u001b[38;5;28mprint\u001b[39m(data)\n",
      "\u001b[1;31mNameError\u001b[0m: name 'results' is not defined"
     ]
    }
   ],
   "source": [
    "for data in results:\n",
    "    print(data)"
   ]
  },
  {
   "cell_type": "code",
   "execution_count": 1,
   "id": "6b72a199",
   "metadata": {},
   "outputs": [
    {
     "ename": "NameError",
     "evalue": "name 'emp_coll' is not defined",
     "output_type": "error",
     "traceback": [
      "\u001b[1;31m---------------------------------------------------------------------------\u001b[0m",
      "\u001b[1;31mNameError\u001b[0m                                 Traceback (most recent call last)",
      "Input \u001b[1;32mIn [1]\u001b[0m, in \u001b[0;36m<cell line: 1>\u001b[1;34m()\u001b[0m\n\u001b[1;32m----> 1\u001b[0m \u001b[43memp_coll\u001b[49m\u001b[38;5;241m.\u001b[39mfind_one()\n",
      "\u001b[1;31mNameError\u001b[0m: name 'emp_coll' is not defined"
     ]
    }
   ],
   "source": [
    "emp_coll.find_one()"
   ]
  },
  {
   "cell_type": "code",
   "execution_count": 20,
   "id": "14006799",
   "metadata": {},
   "outputs": [
    {
     "data": {
      "text/plain": [
       "Collection(Database(MongoClient(host=['locahost:27017'], document_class=dict, tz_aware=False, connect=True), 'infosys_db'), 'emp_coll.find_man')"
      ]
     },
     "execution_count": 20,
     "metadata": {},
     "output_type": "execute_result"
    }
   ],
   "source": [
    "emp_coll.find_man"
   ]
  },
  {
   "cell_type": "markdown",
   "id": "47f9dadc",
   "metadata": {},
   "source": [
    "# list all collection inside infosys_db database"
   ]
  },
  {
   "cell_type": "code",
   "execution_count": 3,
   "id": "6b797c74",
   "metadata": {},
   "outputs": [
    {
     "ename": "NameError",
     "evalue": "name 'infosys_db' is not defined",
     "output_type": "error",
     "traceback": [
      "\u001b[1;31m---------------------------------------------------------------------------\u001b[0m",
      "\u001b[1;31mNameError\u001b[0m                                 Traceback (most recent call last)",
      "Input \u001b[1;32mIn [3]\u001b[0m, in \u001b[0;36m<cell line: 1>\u001b[1;34m()\u001b[0m\n\u001b[1;32m----> 1\u001b[0m \u001b[43minfosys_db\u001b[49m\u001b[38;5;241m.\u001b[39mlist_collection_names()\n",
      "\u001b[1;31mNameError\u001b[0m: name 'infosys_db' is not defined"
     ]
    }
   ],
   "source": [
    "infosys_db.list_collection_names()"
   ]
  },
  {
   "cell_type": "code",
   "execution_count": 4,
   "id": "5c9672c7",
   "metadata": {},
   "outputs": [
    {
     "ename": "NameError",
     "evalue": "name 'infosys_db' is not defined",
     "output_type": "error",
     "traceback": [
      "\u001b[1;31m---------------------------------------------------------------------------\u001b[0m",
      "\u001b[1;31mNameError\u001b[0m                                 Traceback (most recent call last)",
      "Input \u001b[1;32mIn [4]\u001b[0m, in \u001b[0;36m<cell line: 1>\u001b[1;34m()\u001b[0m\n\u001b[1;32m----> 1\u001b[0m emp_coll\u001b[38;5;241m=\u001b[39m\u001b[43minfosys_db\u001b[49m[\u001b[38;5;124m'\u001b[39m\u001b[38;5;124memp_coll\u001b[39m\u001b[38;5;124m'\u001b[39m]\n",
      "\u001b[1;31mNameError\u001b[0m: name 'infosys_db' is not defined"
     ]
    }
   ],
   "source": [
    "emp_coll=infosys_db['emp_coll']"
   ]
  },
  {
   "cell_type": "markdown",
   "id": "08111a89",
   "metadata": {},
   "source": [
    "# Deleting Database"
   ]
  },
  {
   "cell_type": "code",
   "execution_count": 5,
   "id": "d17a9119",
   "metadata": {},
   "outputs": [
    {
     "ename": "NameError",
     "evalue": "name 'Myclient' is not defined",
     "output_type": "error",
     "traceback": [
      "\u001b[1;31m---------------------------------------------------------------------------\u001b[0m",
      "\u001b[1;31mNameError\u001b[0m                                 Traceback (most recent call last)",
      "Input \u001b[1;32mIn [5]\u001b[0m, in \u001b[0;36m<cell line: 1>\u001b[1;34m()\u001b[0m\n\u001b[1;32m----> 1\u001b[0m \u001b[43mMyclient\u001b[49m \u001b[38;5;241m.\u001b[39mdrop_database(\u001b[38;5;124m\"\u001b[39m\u001b[38;5;124mrngpit_db\u001b[39m\u001b[38;5;124m\"\u001b[39m)\n",
      "\u001b[1;31mNameError\u001b[0m: name 'Myclient' is not defined"
     ]
    }
   ],
   "source": [
    "Myclient .drop_database(\"rngpit_db\")"
   ]
  },
  {
   "cell_type": "code",
   "execution_count": null,
   "id": "0941ef4b",
   "metadata": {},
   "outputs": [],
   "source": []
  }
 ],
 "metadata": {
  "kernelspec": {
   "display_name": "Python 3 (ipykernel)",
   "language": "python",
   "name": "python3"
  },
  "language_info": {
   "codemirror_mode": {
    "name": "ipython",
    "version": 3
   },
   "file_extension": ".py",
   "mimetype": "text/x-python",
   "name": "python",
   "nbconvert_exporter": "python",
   "pygments_lexer": "ipython3",
   "version": "3.9.12"
  }
 },
 "nbformat": 4,
 "nbformat_minor": 5
}
