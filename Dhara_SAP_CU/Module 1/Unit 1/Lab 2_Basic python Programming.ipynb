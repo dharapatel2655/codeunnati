{
 "cells": [
  {
   "cell_type": "markdown",
   "id": "534ff7d8",
   "metadata": {},
   "source": [
    "# Lab 2-Perform Basic Python Opration\n",
    "\n",
    "We Will Cover following Topic\n",
    "\n",
    "    Python variables\n",
    "    Python data structures\n",
    "    \n",
    "   "
   ]
  },
  {
   "cell_type": "code",
   "execution_count": 1,
   "id": "cc1571b4",
   "metadata": {},
   "outputs": [
    {
     "name": "stdout",
     "output_type": "stream",
     "text": [
      " I am dhara patel\n"
     ]
    }
   ],
   "source": [
    "#print your name\n",
    "print(\" I am dhara patel\")"
   ]
  },
  {
   "cell_type": "markdown",
   "id": "159ee99a",
   "metadata": {},
   "source": [
    "# Python variables\n"
   ]
  },
  {
   "cell_type": "markdown",
   "id": "55fa056b",
   "metadata": {},
   "source": [
    "A variable is a container for a value.\n",
    "It can be assigned a name.\n",
    "you can use it refer to it later in the program.based on the data type of the variable.\n"
   ]
  },
  {
   "cell_type": "code",
   "execution_count": 2,
   "id": "9de147bd",
   "metadata": {},
   "outputs": [
    {
     "name": "stdout",
     "output_type": "stream",
     "text": [
      "100 1000.0 Dhara\n"
     ]
    }
   ],
   "source": [
    "count=100               #Integer Assignment\n",
    "kilometers=1000.0       #Float Assignment\n",
    "name = 'Dhara'          #Sting Assignment\n",
    "print(count,kilometers,name)"
   ]
  },
  {
   "cell_type": "code",
   "execution_count": 4,
   "id": "fefaed28",
   "metadata": {},
   "outputs": [
    {
     "name": "stdout",
     "output_type": "stream",
     "text": [
      "1,2,Bhoomi\n"
     ]
    }
   ],
   "source": [
    "a,b,c=1,2,\"Bhoomi\"\n",
    "print(a,b,c,sep=',')"
   ]
  },
  {
   "cell_type": "code",
   "execution_count": 3,
   "id": "44838fe4",
   "metadata": {},
   "outputs": [],
   "source": [
    "a=\"Hello World\"\n",
    "b=27\n",
    "c=29.7\n",
    "d= 1j\n",
    "e=[\"apple\",\"banana\",\"rashbarry\"]\n",
    "f=[\"apple\",\"banana\",\"rashbarry\"]\n",
    "g=range (10)\n",
    "h={\"name\":\"Dhara\",\" age\":18}\n",
    "i={\"apple\",\"banana\",\"rashbarry\"}\n",
    "j=frozenset({\"apple\",\"banana\",\"rashbarry\"})\n"
   ]
  },
  {
   "cell_type": "code",
   "execution_count": 4,
   "id": "43649245",
   "metadata": {},
   "outputs": [
    {
     "name": "stdout",
     "output_type": "stream",
     "text": [
      "<class 'str'>\n",
      "<class 'int'>\n",
      "<class 'float'>\n",
      "<class 'complex'>\n",
      "<class 'list'>\n",
      "<class 'list'>\n",
      "<class 'range'>\n",
      "<class 'dict'>\n",
      "<class 'set'>\n",
      "<class 'frozenset'>\n"
     ]
    }
   ],
   "source": [
    "print(type(a))\n",
    "print(type(b))\n",
    "print(type(c))\n",
    "print(type(d))\n",
    "print(type(e))\n",
    "print(type(f))\n",
    "print(type(g))\n",
    "print(type(h))\n",
    "print(type(i))\n",
    "print(type(j))"
   ]
  },
  {
   "cell_type": "code",
   "execution_count": 5,
   "id": "eadc7d4d",
   "metadata": {},
   "outputs": [
    {
     "data": {
      "text/plain": [
       "float"
      ]
     },
     "execution_count": 5,
     "metadata": {},
     "output_type": "execute_result"
    }
   ],
   "source": [
    "num=32.3e18\n",
    "type(num)\n"
   ]
  },
  {
   "cell_type": "markdown",
   "id": "0e7b7939",
   "metadata": {},
   "source": [
    "# Python Strings\n",
    "\n",
    "strings in Python are identified as a contiguous set of characters represented in the question marks."
   ]
  },
  {
   "cell_type": "code",
   "execution_count": 7,
   "id": "18f52910",
   "metadata": {},
   "outputs": [
    {
     "name": "stdout",
     "output_type": "stream",
     "text": [
      "Python is programming language\n"
     ]
    }
   ],
   "source": [
    "str1='Python is programming language'\n",
    "print(str1)\n"
   ]
  },
  {
   "cell_type": "code",
   "execution_count": 9,
   "id": "e99b8917",
   "metadata": {},
   "outputs": [
    {
     "name": "stdout",
     "output_type": "stream",
     "text": [
      "u\n"
     ]
    }
   ],
   "source": [
    "print(str1[26])"
   ]
  },
  {
   "cell_type": "code",
   "execution_count": 11,
   "id": "f6b39ae6",
   "metadata": {},
   "outputs": [
    {
     "name": "stdout",
     "output_type": "stream",
     "text": [
      "thon is \n"
     ]
    }
   ],
   "source": [
    "print(str1[2:10])"
   ]
  },
  {
   "cell_type": "code",
   "execution_count": 15,
   "id": "1f4e4aac",
   "metadata": {},
   "outputs": [
    {
     "name": "stdout",
     "output_type": "stream",
     "text": [
      "ython is pro\n"
     ]
    }
   ],
   "source": [
    "print(str1[1:13])"
   ]
  },
  {
   "cell_type": "code",
   "execution_count": 18,
   "id": "fdf5d146",
   "metadata": {},
   "outputs": [
    {
     "name": "stdout",
     "output_type": "stream",
     "text": [
      "I am Dhara patel\n"
     ]
    }
   ],
   "source": [
    "str2='I am Dhara patel'\n",
    "print(str2)"
   ]
  },
  {
   "cell_type": "code",
   "execution_count": 50,
   "id": "2cddc6c3",
   "metadata": {},
   "outputs": [
    {
     "name": "stdout",
     "output_type": "stream",
     "text": [
      "print string is default order:\n",
      "Python programming Language\n"
     ]
    }
   ],
   "source": [
    "# Default order\n",
    "string1=\"{} {} {}\".format ('Python','programming','Language')\n",
    "print(\"print string is default order:\")\n",
    "print(string1)"
   ]
  },
  {
   "cell_type": "markdown",
   "id": "a7ff3d94",
   "metadata": {},
   "source": [
    "# F-string\n",
    "print String in order of krywords:\n",
    "Python programming Language"
   ]
  },
  {
   "cell_type": "code",
   "execution_count": 33,
   "id": "908ee6f6",
   "metadata": {},
   "outputs": [
    {
     "name": "stdout",
     "output_type": "stream",
     "text": [
      "Dharais the sudent of my class.\n"
     ]
    }
   ],
   "source": [
    "#program of f-sting\n",
    "val='Dhara'\n",
    "print(f\"{val}is the sudent of my class.\")\n"
   ]
  },
  {
   "cell_type": "code",
   "execution_count": 34,
   "id": "39c483b6",
   "metadata": {},
   "outputs": [
    {
     "name": "stdout",
     "output_type": "stream",
     "text": [
      "Hello,My name is Dhara and I am18 years old.\n"
     ]
    }
   ],
   "source": [
    "name='Dhara'\n",
    "age=18\n",
    "print( f\"Hello,My name is {name} and I am{age} years old.\")"
   ]
  },
  {
   "cell_type": "code",
   "execution_count": 53,
   "id": "b9df3826",
   "metadata": {},
   "outputs": [
    {
     "name": "stdout",
     "output_type": "stream",
     "text": [
      " MANGO IS KING OF FRUITS\n",
      " mango is king of fruits\n",
      " Mango Is King Of Fruits\n",
      " mango is king of fruits\n",
      " mANGO IS KING OF FRUITS\n",
      "False\n",
      "False\n",
      "['Mango', 'is', 'king', 'of', 'fruits']\n",
      "Mango is king of fruits\n"
     ]
    }
   ],
   "source": [
    "str1=\" Mango is king of fruits\"\n",
    "print(str1.upper())\n",
    "print(str1.lower())\n",
    "print(str1.title())\n",
    "print(str1.capitalize())\n",
    "print(str1.swapcase())\n",
    "print(str1.isalpha())\n",
    "print(str1.isupper())\n",
    "      \n",
    "a=str1.split()\n",
    "print(a)\n",
    "      \n",
    "b=\" \".join(a)\n",
    "print(b)\n",
    "\n",
    "\n"
   ]
  },
  {
   "cell_type": "markdown",
   "id": "148f20de",
   "metadata": {},
   "source": [
    "# oprators\n",
    "Arithmetic oprators"
   ]
  },
  {
   "cell_type": "code",
   "execution_count": 42,
   "id": "588f8d09",
   "metadata": {},
   "outputs": [
    {
     "data": {
      "text/plain": [
       "12"
      ]
     },
     "execution_count": 42,
     "metadata": {},
     "output_type": "execute_result"
    }
   ],
   "source": [
    "# addition\n",
    "5+7"
   ]
  },
  {
   "cell_type": "code",
   "execution_count": 43,
   "id": "3666a529",
   "metadata": {},
   "outputs": [
    {
     "name": "stdout",
     "output_type": "stream",
     "text": [
      "8\n",
      "12\n"
     ]
    }
   ],
   "source": [
    "a=2\n",
    "a+=6\n",
    "print(a)\n",
    "\n",
    "b=3\n",
    "b*=4\n",
    "print(b)"
   ]
  },
  {
   "cell_type": "code",
   "execution_count": 44,
   "id": "e862f607",
   "metadata": {},
   "outputs": [
    {
     "name": "stdout",
     "output_type": "stream",
     "text": [
      "False\n",
      "False\n"
     ]
    }
   ],
   "source": [
    "a=1\n",
    "a=2\n",
    "print(a==b)\n",
    "\n",
    "b=1\n",
    "b=2\n",
    "print(a!=b)"
   ]
  },
  {
   "cell_type": "code",
   "execution_count": 47,
   "id": "3a528cd7",
   "metadata": {},
   "outputs": [
    {
     "name": "stdout",
     "output_type": "stream",
     "text": [
      "True\n",
      "True\n"
     ]
    }
   ],
   "source": [
    "a=3\n",
    "print(a>2 and a<10)\n",
    "b=4\n",
    "print(b>2 and b<10)"
   ]
  },
  {
   "cell_type": "code",
   "execution_count": 56,
   "id": "fd035684",
   "metadata": {},
   "outputs": [
    {
     "data": {
      "text/plain": [
       "1.5"
      ]
     },
     "execution_count": 56,
     "metadata": {},
     "output_type": "execute_result"
    }
   ],
   "source": [
    "# Deivision\n",
    "3/2\n"
   ]
  },
  {
   "cell_type": "code",
   "execution_count": 57,
   "id": "662725c1",
   "metadata": {},
   "outputs": [
    {
     "data": {
      "text/plain": [
       "2"
      ]
     },
     "execution_count": 57,
     "metadata": {},
     "output_type": "execute_result"
    }
   ],
   "source": [
    "# Floor Division\n",
    "10//4"
   ]
  },
  {
   "cell_type": "code",
   "execution_count": 58,
   "id": "627550f7",
   "metadata": {},
   "outputs": [
    {
     "data": {
      "text/plain": [
       "8"
      ]
     },
     "execution_count": 58,
     "metadata": {},
     "output_type": "execute_result"
    }
   ],
   "source": [
    "# Power\n",
    "2**3"
   ]
  },
  {
   "cell_type": "code",
   "execution_count": 59,
   "id": "79add398",
   "metadata": {},
   "outputs": [
    {
     "data": {
      "text/plain": [
       "0.5"
      ]
     },
     "execution_count": 59,
     "metadata": {},
     "output_type": "execute_result"
    }
   ],
   "source": [
    "# can also do roots this way \n",
    "4**-.5"
   ]
  },
  {
   "cell_type": "code",
   "execution_count": 60,
   "id": "c56afa4d",
   "metadata": {},
   "outputs": [
    {
     "data": {
      "text/plain": [
       "105"
      ]
     },
     "execution_count": 60,
     "metadata": {},
     "output_type": "execute_result"
    }
   ],
   "source": [
    "# order of oprations followed in python\n",
    "2+10*10+3"
   ]
  },
  {
   "cell_type": "code",
   "execution_count": 61,
   "id": "4f9d6105",
   "metadata": {},
   "outputs": [
    {
     "data": {
      "text/plain": [
       "156"
      ]
     },
     "execution_count": 61,
     "metadata": {},
     "output_type": "execute_result"
    }
   ],
   "source": [
    "# can use parentheses to specify orders\n",
    "(2+10)*(10+3)"
   ]
  },
  {
   "cell_type": "code",
   "execution_count": 64,
   "id": "e53e30b1",
   "metadata": {},
   "outputs": [
    {
     "name": "stdout",
     "output_type": "stream",
     "text": [
      "Enter the value of x;26\n",
      "Enter the value of y;16\n",
      "416\n"
     ]
    }
   ],
   "source": [
    "x=int(input(\"Enter the value of x;\"))\n",
    "y=int(input(\"Enter the value of y;\"))\n",
    "z=x*y\n",
    "print(z)"
   ]
  },
  {
   "cell_type": "markdown",
   "id": "376c4367",
   "metadata": {},
   "source": [
    "# Python version check in notebook"
   ]
  },
  {
   "cell_type": "code",
   "execution_count": 81,
   "id": "2e03e2ac",
   "metadata": {},
   "outputs": [
    {
     "name": "stdout",
     "output_type": "stream",
     "text": [
      "3.9.12\n"
     ]
    }
   ],
   "source": [
    "from platform import python_version\n",
    "print(python_version())"
   ]
  },
  {
   "cell_type": "code",
   "execution_count": 74,
   "id": "6db0c4ef",
   "metadata": {},
   "outputs": [
    {
     "name": "stdout",
     "output_type": "stream",
     "text": [
      "12\n",
      "<class 'int'>\n",
      "200.0\n",
      "<class 'float'>\n",
      "Dhara\n",
      "<class 'str'>\n",
      "True\n",
      "<class 'bool'>\n"
     ]
    }
   ],
   "source": [
    "var1=12\n",
    "var2=200.0\n",
    "var3=\"Dhara\" \n",
    "var4=True\n",
    "\n",
    "print (var1)\n",
    "print(type(var1))\n",
    "\n",
    "print (var2)\n",
    "print(type(var2))\n",
    "\n",
    "print (var3)\n",
    "print(type(var3))\n",
    "\n",
    "print (var4)\n",
    "print(type(var4))\n",
    "\n",
    "\n",
    "\n"
   ]
  },
  {
   "cell_type": "code",
   "execution_count": 82,
   "id": "998de7f9",
   "metadata": {},
   "outputs": [
    {
     "name": "stdout",
     "output_type": "stream",
     "text": [
      "Gujarat\n",
      "University\n",
      "GujaratUniversity\n",
      "GujaratGujaratGujaratGujarat\n"
     ]
    }
   ],
   "source": [
    "s1=\"Gujarat\"\n",
    "s2=\"University\"\n",
    "print(s1)\n",
    "print(s2) \n",
    "\n",
    "s3=s1+s2 # concentrasion of\n",
    "print(s3)\n",
    "\n",
    "s4=s1*4\n",
    "print(s4)"
   ]
  },
  {
   "cell_type": "code",
   "execution_count": 79,
   "id": "cad6222d",
   "metadata": {},
   "outputs": [
    {
     "name": "stdout",
     "output_type": "stream",
     "text": [
      "RNGPIT\n",
      "6\n"
     ]
    }
   ],
   "source": [
    "name=\"RNGPIT\"\n",
    "print(name)\n",
    "print(len(name))"
   ]
  },
  {
   "cell_type": "code",
   "execution_count": 86,
   "id": "547c6d78",
   "metadata": {},
   "outputs": [
    {
     "data": {
      "text/plain": [
       "'Gujarat'"
      ]
     },
     "execution_count": 86,
     "metadata": {},
     "output_type": "execute_result"
    }
   ],
   "source": [
    "s1[:7]"
   ]
  },
  {
   "cell_type": "code",
   "execution_count": 84,
   "id": "69b60d01",
   "metadata": {},
   "outputs": [
    {
     "data": {
      "text/plain": [
       "'University'"
      ]
     },
     "execution_count": 84,
     "metadata": {},
     "output_type": "execute_result"
    }
   ],
   "source": [
    "s2[:]"
   ]
  },
  {
   "cell_type": "code",
   "execution_count": 90,
   "id": "1952df3b",
   "metadata": {},
   "outputs": [
    {
     "data": {
      "text/plain": [
       "'GujaratU'"
      ]
     },
     "execution_count": 90,
     "metadata": {},
     "output_type": "execute_result"
    }
   ],
   "source": [
    "s3[:8]"
   ]
  },
  {
   "cell_type": "code",
   "execution_count": null,
   "id": "c01619e7",
   "metadata": {},
   "outputs": [],
   "source": []
  }
 ],
 "metadata": {
  "kernelspec": {
   "display_name": "Python 3 (ipykernel)",
   "language": "python",
   "name": "python3"
  },
  "language_info": {
   "codemirror_mode": {
    "name": "ipython",
    "version": 3
   },
   "file_extension": ".py",
   "mimetype": "text/x-python",
   "name": "python",
   "nbconvert_exporter": "python",
   "pygments_lexer": "ipython3",
   "version": "3.9.12"
  }
 },
 "nbformat": 4,
 "nbformat_minor": 5
}
