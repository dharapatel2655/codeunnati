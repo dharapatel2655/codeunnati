{
 "cells": [
  {
   "cell_type": "markdown",
   "id": "19085506",
   "metadata": {},
   "source": [
    "# data structure in python\n",
    "list"
   ]
  },
  {
   "cell_type": "code",
   "execution_count": 33,
   "id": "dfd67af8",
   "metadata": {},
   "outputs": [
    {
     "name": "stdout",
     "output_type": "stream",
     "text": [
      "[1, 2, 3, 'Dhara', 12.5]\n"
     ]
    }
   ],
   "source": [
    "l= [1,2,3,'Dhara',12.5]\n",
    "print(l)"
   ]
  },
  {
   "cell_type": "code",
   "execution_count": 35,
   "id": "14b08370",
   "metadata": {},
   "outputs": [
    {
     "data": {
      "text/plain": [
       "[10, 2, 3, 'Dhara', 12.5]"
      ]
     },
     "execution_count": 35,
     "metadata": {},
     "output_type": "execute_result"
    }
   ],
   "source": [
    "l[0]=10\n",
    "l"
   ]
  },
  {
   "cell_type": "code",
   "execution_count": 36,
   "id": "29d9bcbe",
   "metadata": {},
   "outputs": [
    {
     "data": {
      "text/plain": [
       "[10, 2, 3]"
      ]
     },
     "execution_count": 36,
     "metadata": {},
     "output_type": "execute_result"
    }
   ],
   "source": [
    "l[0:3]"
   ]
  },
  {
   "cell_type": "code",
   "execution_count": 40,
   "id": "22bc33b0",
   "metadata": {},
   "outputs": [
    {
     "data": {
      "text/plain": [
       "[5, 2, 3, 'Dhara', 12.5]"
      ]
     },
     "execution_count": 40,
     "metadata": {},
     "output_type": "execute_result"
    }
   ],
   "source": [
    "l[0]=5\n",
    "l"
   ]
  },
  {
   "cell_type": "code",
   "execution_count": 41,
   "id": "6cb5d5b6",
   "metadata": {},
   "outputs": [
    {
     "name": "stdout",
     "output_type": "stream",
     "text": [
      "Enter the word:I am Dhara patel\n"
     ]
    }
   ],
   "source": [
    "text=input(\"Enter the word:\")"
   ]
  },
  {
   "cell_type": "code",
   "execution_count": 38,
   "id": "3f9a275a",
   "metadata": {},
   "outputs": [
    {
     "data": {
      "text/plain": [
       "['I', 'am', 'Dhara', 'patel']"
      ]
     },
     "execution_count": 38,
     "metadata": {},
     "output_type": "execute_result"
    }
   ],
   "source": [
    "text.split()"
   ]
  },
  {
   "cell_type": "code",
   "execution_count": 39,
   "id": "fe453dcf",
   "metadata": {},
   "outputs": [
    {
     "name": "stdout",
     "output_type": "stream",
     "text": [
      "16\n"
     ]
    }
   ],
   "source": [
    "print(len(text))"
   ]
  },
  {
   "cell_type": "code",
   "execution_count": 44,
   "id": "a853f3d2",
   "metadata": {},
   "outputs": [
    {
     "name": "stdout",
     "output_type": "stream",
     "text": [
      "[12345, 'Dhara', 12345, 'Dhara']\n",
      "['abcd', 789, 2.25, 'Dhara', 41.2, 12345, 'Dhara']\n"
     ]
    },
    {
     "data": {
      "text/plain": [
       "['abcd', 789, 2.25, 'Dhara', 41.2]"
      ]
     },
     "execution_count": 44,
     "metadata": {},
     "output_type": "execute_result"
    }
   ],
   "source": [
    "list1=['abcd',789,2.25,'Dhara',41.2]\n",
    "small=[12345,'Dhara']\n",
    "\n",
    "print(small*2) #list 2 items\n",
    "print(list1+small) #concatenated 2 variable\n",
    "\n",
    "list.remove (2.25)# remove spcific value\n",
    "list1\n"
   ]
  },
  {
   "cell_type": "code",
   "execution_count": 45,
   "id": "f4f72290",
   "metadata": {},
   "outputs": [
    {
     "data": {
      "text/plain": [
       "[789, 2.25, 'Dhara', 41.2]"
      ]
     },
     "execution_count": 45,
     "metadata": {},
     "output_type": "execute_result"
    }
   ],
   "source": [
    "del list1[0] # remove the index\n",
    "list1"
   ]
  },
  {
   "cell_type": "code",
   "execution_count": 46,
   "id": "1082a728",
   "metadata": {
    "scrolled": true
   },
   "outputs": [
    {
     "name": "stdout",
     "output_type": "stream",
     "text": [
      "[12345, 'Dhara', '  patel']\n"
     ]
    }
   ],
   "source": [
    "small. append(\"  patel\") # add the new element\n",
    "print(small)"
   ]
  },
  {
   "cell_type": "markdown",
   "id": "0f8c97cb",
   "metadata": {},
   "source": [
    "# Tupals"
   ]
  },
  {
   "cell_type": "code",
   "execution_count": 47,
   "id": "495b88ed",
   "metadata": {},
   "outputs": [
    {
     "name": "stdout",
     "output_type": "stream",
     "text": [
      "['abcd', 786, 2.25, 'Dhara', 41.2, 12345, 'Dhara']\n"
     ]
    }
   ],
   "source": [
    "list1=['abcd',786,2.25,'Dhara',41.2]\n",
    "small=[12345,'Dhara']\n",
    "list1.extend(small) # add the 2 var with extend\n",
    "print(list1)"
   ]
  },
  {
   "cell_type": "code",
   "execution_count": 49,
   "id": "bc70ada3",
   "metadata": {},
   "outputs": [
    {
     "name": "stdout",
     "output_type": "stream",
     "text": [
      "('Dhara', 26, 'patel', 11.7, 'amalsad', 26)\n",
      "<class 'tuple'>\n",
      "6\n"
     ]
    }
   ],
   "source": [
    "tup1=(\"Dhara\" , 26, \"patel\",11.7,'amalsad',26)\n",
    "print (tup1)\n",
    "print(type(tup1))\n",
    "print(len(tup1))"
   ]
  },
  {
   "cell_type": "code",
   "execution_count": 50,
   "id": "54f5a09c",
   "metadata": {},
   "outputs": [
    {
     "data": {
      "text/plain": [
       "'amalsad'"
      ]
     },
     "execution_count": 50,
     "metadata": {},
     "output_type": "execute_result"
    }
   ],
   "source": [
    "tup1[4]"
   ]
  },
  {
   "cell_type": "code",
   "execution_count": 52,
   "id": "f7464f87",
   "metadata": {},
   "outputs": [
    {
     "data": {
      "text/plain": [
       "(11.7, 'amalsad', 26)"
      ]
     },
     "execution_count": 52,
     "metadata": {},
     "output_type": "execute_result"
    }
   ],
   "source": [
    "tup1[3:]"
   ]
  },
  {
   "cell_type": "code",
   "execution_count": 53,
   "id": "232b1921",
   "metadata": {},
   "outputs": [
    {
     "data": {
      "text/plain": [
       "('Dhara', 26)"
      ]
     },
     "execution_count": 53,
     "metadata": {},
     "output_type": "execute_result"
    }
   ],
   "source": [
    "tup1[:2]"
   ]
  },
  {
   "cell_type": "code",
   "execution_count": 54,
   "id": "815adf67",
   "metadata": {},
   "outputs": [
    {
     "data": {
      "text/plain": [
       "('patel', 11.7)"
      ]
     },
     "execution_count": 54,
     "metadata": {},
     "output_type": "execute_result"
    }
   ],
   "source": [
    "tup1[2:4]"
   ]
  },
  {
   "cell_type": "code",
   "execution_count": 56,
   "id": "332bc941",
   "metadata": {},
   "outputs": [
    {
     "data": {
      "text/plain": [
       "(26, 'patel', 11.7, 'amalsad')"
      ]
     },
     "execution_count": 56,
     "metadata": {},
     "output_type": "execute_result"
    }
   ],
   "source": [
    "tup1[-5:-1]"
   ]
  },
  {
   "cell_type": "code",
   "execution_count": 57,
   "id": "c84d1b68",
   "metadata": {
    "scrolled": true
   },
   "outputs": [
    {
     "name": "stdout",
     "output_type": "stream",
     "text": [
      "('Dhara', 26, 'patel', 11.7, 'amalsad', 26, 'manish', 234)\n"
     ]
    }
   ],
   "source": [
    "tup2=(\"manish\",234)\n",
    "tup3=tup1+tup2\n",
    "print(tup3)"
   ]
  },
  {
   "cell_type": "markdown",
   "id": "161f18d1",
   "metadata": {},
   "source": [
    "# dictionary"
   ]
  },
  {
   "cell_type": "code",
   "execution_count": 58,
   "id": "0b59e140",
   "metadata": {},
   "outputs": [
    {
     "data": {
      "text/plain": [
       "{'key': 'Dhara', 'key2': 'patel', 'key3': 'RNGPIT'}"
      ]
     },
     "execution_count": 58,
     "metadata": {},
     "output_type": "execute_result"
    }
   ],
   "source": [
    "dict={'key':'Dhara','key2':'patel','key3':'RNGPIT'}\n",
    "dict"
   ]
  },
  {
   "cell_type": "code",
   "execution_count": 59,
   "id": "796912e3",
   "metadata": {},
   "outputs": [
    {
     "data": {
      "text/plain": [
       "'patel'"
      ]
     },
     "execution_count": 59,
     "metadata": {},
     "output_type": "execute_result"
    }
   ],
   "source": [
    "dict['key2']"
   ]
  },
  {
   "cell_type": "code",
   "execution_count": 63,
   "id": "09a73dec",
   "metadata": {},
   "outputs": [
    {
     "data": {
      "text/plain": [
       "{'key1': 123, 'key2': [1, 2, 3], 'key': ['dha', 'ra', 'patel']}"
      ]
     },
     "execution_count": 63,
     "metadata": {},
     "output_type": "execute_result"
    }
   ],
   "source": [
    "my_dict={'key1':123,'key2':[1,2,3],'key':['dha','ra','patel']}\n",
    "my_dict"
   ]
  },
  {
   "cell_type": "code",
   "execution_count": null,
   "id": "0b183494",
   "metadata": {},
   "outputs": [],
   "source": []
  },
  {
   "cell_type": "code",
   "execution_count": null,
   "id": "9501f4a8",
   "metadata": {},
   "outputs": [],
   "source": []
  },
  {
   "cell_type": "code",
   "execution_count": null,
   "id": "8585bc73",
   "metadata": {},
   "outputs": [],
   "source": []
  },
  {
   "cell_type": "code",
   "execution_count": null,
   "id": "8b9e2dab",
   "metadata": {},
   "outputs": [],
   "source": []
  },
  {
   "cell_type": "markdown",
   "id": "21bf2f67",
   "metadata": {},
   "source": [
    "# set in python\n",
    "the simple functionality of set is it just ignores the duplicate in the set.sets are:\n",
    "unordered\n",
    "Unchaeable \n",
    "not allowed"
   ]
  },
  {
   "cell_type": "code",
   "execution_count": 1,
   "id": "e535d08e",
   "metadata": {},
   "outputs": [
    {
     "name": "stdout",
     "output_type": "stream",
     "text": [
      "{'physics', 'comp', 'maths', 'chemistry'}\n",
      "4\n"
     ]
    }
   ],
   "source": [
    "thisset ={'physics','maths','chemistry','comp'}\n",
    "print(thisset)\n",
    "print(len(thisset))"
   ]
  },
  {
   "cell_type": "code",
   "execution_count": 2,
   "id": "69f42af3",
   "metadata": {},
   "outputs": [
    {
     "data": {
      "text/plain": [
       "{1, 2, 3, 4, 5}"
      ]
     },
     "execution_count": 2,
     "metadata": {},
     "output_type": "execute_result"
    }
   ],
   "source": [
    "{1,2,3,4,5}"
   ]
  },
  {
   "cell_type": "code",
   "execution_count": 3,
   "id": "88fecfbd",
   "metadata": {},
   "outputs": [
    {
     "data": {
      "text/plain": [
       "{1, 2, 3, 4, 5}"
      ]
     },
     "execution_count": 3,
     "metadata": {},
     "output_type": "execute_result"
    }
   ],
   "source": [
    "{1,2,3,4,5,4,3}"
   ]
  },
  {
   "cell_type": "code",
   "execution_count": 4,
   "id": "131d2a98",
   "metadata": {},
   "outputs": [
    {
     "data": {
      "text/plain": [
       "set"
      ]
     },
     "execution_count": 4,
     "metadata": {},
     "output_type": "execute_result"
    }
   ],
   "source": [
    "type({1,2,3,4})"
   ]
  },
  {
   "cell_type": "code",
   "execution_count": 5,
   "id": "48e2c80f",
   "metadata": {},
   "outputs": [],
   "source": [
    "set=set()"
   ]
  },
  {
   "cell_type": "code",
   "execution_count": 6,
   "id": "fdf1bf86",
   "metadata": {},
   "outputs": [],
   "source": [
    "set.add(4)"
   ]
  },
  {
   "cell_type": "code",
   "execution_count": 7,
   "id": "e92bae35",
   "metadata": {},
   "outputs": [],
   "source": [
    "set.add(5)\n"
   ]
  },
  {
   "cell_type": "code",
   "execution_count": 8,
   "id": "9bbdd537",
   "metadata": {},
   "outputs": [],
   "source": [
    "set.add(6)"
   ]
  },
  {
   "cell_type": "code",
   "execution_count": 9,
   "id": "f3204a8b",
   "metadata": {},
   "outputs": [
    {
     "data": {
      "text/plain": [
       "{4, 5, 6}"
      ]
     },
     "execution_count": 9,
     "metadata": {},
     "output_type": "execute_result"
    }
   ],
   "source": [
    "set"
   ]
  },
  {
   "cell_type": "code",
   "execution_count": 10,
   "id": "dfc389e3",
   "metadata": {},
   "outputs": [
    {
     "data": {
      "text/plain": [
       "512"
      ]
     },
     "execution_count": 10,
     "metadata": {},
     "output_type": "execute_result"
    }
   ],
   "source": [
    "2**(3**2)"
   ]
  },
  {
   "cell_type": "code",
   "execution_count": 12,
   "id": "e711f8cc",
   "metadata": {},
   "outputs": [
    {
     "data": {
      "text/plain": [
       "64"
      ]
     },
     "execution_count": 12,
     "metadata": {},
     "output_type": "execute_result"
    }
   ],
   "source": [
    "8**2\n"
   ]
  },
  {
   "cell_type": "code",
   "execution_count": 13,
   "id": "4002ef9d",
   "metadata": {},
   "outputs": [
    {
     "data": {
      "text/plain": [
       "512"
      ]
     },
     "execution_count": 13,
     "metadata": {},
     "output_type": "execute_result"
    }
   ],
   "source": [
    "2**3**2"
   ]
  },
  {
   "cell_type": "code",
   "execution_count": 14,
   "id": "07189870",
   "metadata": {},
   "outputs": [
    {
     "data": {
      "text/plain": [
       "[1, 2, 3, 4, 1, 1.2, 'hello']"
      ]
     },
     "execution_count": 14,
     "metadata": {},
     "output_type": "execute_result"
    }
   ],
   "source": [
    "i=[1,0,2,0,3,4,1,0,1.2,'hello',{}]\n",
    "list (filter(bool,i))"
   ]
  },
  {
   "cell_type": "code",
   "execution_count": null,
   "id": "2fab1e46",
   "metadata": {},
   "outputs": [],
   "source": []
  }
 ],
 "metadata": {
  "kernelspec": {
   "display_name": "Python 3 (ipykernel)",
   "language": "python",
   "name": "python3"
  },
  "language_info": {
   "codemirror_mode": {
    "name": "ipython",
    "version": 3
   },
   "file_extension": ".py",
   "mimetype": "text/x-python",
   "name": "python",
   "nbconvert_exporter": "python",
   "pygments_lexer": "ipython3",
   "version": "3.9.12"
  }
 },
 "nbformat": 4,
 "nbformat_minor": 5
}
