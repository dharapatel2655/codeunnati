{
 "cells": [
  {
   "cell_type": "markdown",
   "id": "a303d687",
   "metadata": {},
   "source": [
    "# Lab3-lmmplementing oops concept in python"
   ]
  },
  {
   "cell_type": "code",
   "execution_count": 11,
   "id": "bac0bd22",
   "metadata": {},
   "outputs": [],
   "source": [
    "class person:\n",
    "    def __init__(mysilyobject,name,age):\n",
    "        mysilyobject.name=name\n",
    "        mysilyobject.age=age\n",
    "    def myfunc(abc):\n",
    "        print(\"Hello  my name is \"+abc.name)"
   ]
  },
  {
   "cell_type": "code",
   "execution_count": 12,
   "id": "6d6af309",
   "metadata": {},
   "outputs": [
    {
     "name": "stdout",
     "output_type": "stream",
     "text": [
      "Hello  my name is dhara\n"
     ]
    }
   ],
   "source": [
    "\n",
    "p1=person(\"dhara\",46)\n",
    "p1.myfunc()"
   ]
  },
  {
   "cell_type": "markdown",
   "id": "758103c9",
   "metadata": {},
   "source": [
    "# sample code on lnheritance"
   ]
  },
  {
   "cell_type": "code",
   "execution_count": 14,
   "id": "3a8bfad2",
   "metadata": {},
   "outputs": [
    {
     "name": "stdout",
     "output_type": "stream",
     "text": [
      "first funtion\n",
      "second funtion\n"
     ]
    }
   ],
   "source": [
    "class parent():\n",
    "    def first(self):\n",
    "        print('first funtion')\n",
    "        \n",
    "class child(parent):\n",
    "    def second (self):\n",
    "        print('second funtion')\n",
    "ob=child()\n",
    "ob.first()\n",
    "ob.second()"
   ]
  },
  {
   "cell_type": "code",
   "execution_count": 17,
   "id": "ee359b39",
   "metadata": {},
   "outputs": [
    {
     "name": "stdout",
     "output_type": "stream",
     "text": [
      "this is  funtion 1\n",
      "this is  funtion 2\n",
      "this is  funtion 3\n"
     ]
    }
   ],
   "source": [
    "class parent1:\n",
    "    def func1(self):\n",
    "        print(\"this is  funtion 1\")\n",
    "class parent2:\n",
    "    def func2(self):\n",
    "        print(\"this is  funtion 2\")\n",
    "class child(parent1,parent2):\n",
    "    def func3 (self):\n",
    "        print(\"this is  funtion 3\")\n",
    "ob=child()\n",
    "ob.func1()\n",
    "ob.func2()\n",
    "ob.func3()"
   ]
  },
  {
   "cell_type": "code",
   "execution_count": 31,
   "id": "c346e912",
   "metadata": {},
   "outputs": [
    {
     "name": "stdout",
     "output_type": "stream",
     "text": [
      "Yash teaches computer science\n"
     ]
    }
   ],
   "source": [
    "class Teacher:\n",
    "    #definition for init method or constructor\n",
    "    def __init__(self,name,subject):\n",
    "        self.name=name\n",
    "        self.subject=subject\n",
    "    #Random member funtion\n",
    "    def show (self):\n",
    "        print(self.name,\"teaches\",self.subject)\n",
    "T=Teacher(\"Yash\",\"computer science\")\n",
    "T.show()"
   ]
  },
  {
   "cell_type": "code",
   "execution_count": null,
   "id": "6f60e00b",
   "metadata": {},
   "outputs": [],
   "source": []
  }
 ],
 "metadata": {
  "kernelspec": {
   "display_name": "Python 3 (ipykernel)",
   "language": "python",
   "name": "python3"
  },
  "language_info": {
   "codemirror_mode": {
    "name": "ipython",
    "version": 3
   },
   "file_extension": ".py",
   "mimetype": "text/x-python",
   "name": "python",
   "nbconvert_exporter": "python",
   "pygments_lexer": "ipython3",
   "version": "3.9.12"
  }
 },
 "nbformat": 4,
 "nbformat_minor": 5
}
