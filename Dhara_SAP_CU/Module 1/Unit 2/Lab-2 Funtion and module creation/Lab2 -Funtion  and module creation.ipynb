{
 "cells": [
  {
   "cell_type": "markdown",
   "id": "1da47f2c",
   "metadata": {},
   "source": [
    "# Lab2- Funtion  and module creation\n"
   ]
  },
  {
   "cell_type": "markdown",
   "id": "11b440c4",
   "metadata": {},
   "source": [
    "# Pass Statement"
   ]
  },
  {
   "cell_type": "code",
   "execution_count": 1,
   "id": "c593b88a",
   "metadata": {},
   "outputs": [],
   "source": [
    "a=45\n",
    "b=74\n",
    "if b>a:\n",
    "    pass"
   ]
  },
  {
   "cell_type": "code",
   "execution_count": 4,
   "id": "7ac28fe7",
   "metadata": {
    "scrolled": true
   },
   "outputs": [
    {
     "name": "stdout",
     "output_type": "stream",
     "text": [
      " value is 10\n",
      "hello Mr.s.c .bose  Good Morning!\n"
     ]
    }
   ],
   "source": [
    "def show(n):\n",
    "    print (\" value is\",n)\n",
    "a=10\n",
    "show(a)\n",
    "def greatings(s):\n",
    "    print(f\"hello Mr.{s}  Good Morning!\")\n",
    "greatings (\"s.c .bose\")  "
   ]
  },
  {
   "cell_type": "code",
   "execution_count": 7,
   "id": "89f71bb4",
   "metadata": {},
   "outputs": [],
   "source": [
    "def say_hello ():\n",
    "    print (\"hello bardoli\")"
   ]
  },
  {
   "cell_type": "code",
   "execution_count": 12,
   "id": "5469057a",
   "metadata": {},
   "outputs": [
    {
     "data": {
      "text/plain": [
       "4"
      ]
     },
     "execution_count": 12,
     "metadata": {},
     "output_type": "execute_result"
    }
   ],
   "source": [
    "def add(n1,n2):\n",
    "    return n1 + n2\n",
    "add(1,3)"
   ]
  },
  {
   "cell_type": "markdown",
   "id": "170f815c",
   "metadata": {},
   "source": [
    "# WAP to check number even or odd"
   ]
  },
  {
   "cell_type": "code",
   "execution_count": 16,
   "id": "13d4d470",
   "metadata": {},
   "outputs": [
    {
     "name": "stdout",
     "output_type": "stream",
     "text": [
      "Enter the number to check odd or even 16\n",
      "16 is even number\n"
     ]
    }
   ],
   "source": [
    "num=int(input(\"Enter the number to check odd or even \"))\n",
    "\n",
    "def find_oddeven(num):\n",
    "    if(num %2)==0:\n",
    "        print('{} is even number'.format(num))\n",
    "    else:\n",
    "        print('{} is odd number'.format(num))\n",
    "find_oddeven(num)"
   ]
  },
  {
   "cell_type": "code",
   "execution_count": 20,
   "id": "322c9ee6",
   "metadata": {},
   "outputs": [
    {
     "name": "stdout",
     "output_type": "stream",
     "text": [
      "sum is12, sub is8,& mul is 20\n"
     ]
    }
   ],
   "source": [
    "def result(a,b):\n",
    "    add=a+b\n",
    "    sub=a-b\n",
    "    mul=a*b\n",
    "    \n",
    "    print(f\"sum is{add}, sub is{sub},& mul is {mul}\")\n",
    "result (10,2)"
   ]
  },
  {
   "cell_type": "code",
   "execution_count": 24,
   "id": "99ebaee5",
   "metadata": {},
   "outputs": [],
   "source": [
    "\n",
    "def sqr(num):\n",
    "    return num**2\n",
    "    "
   ]
  },
  {
   "cell_type": "code",
   "execution_count": 25,
   "id": "6fa68875",
   "metadata": {},
   "outputs": [
    {
     "name": "stdout",
     "output_type": "stream",
     "text": [
      "36\n"
     ]
    }
   ],
   "source": [
    "print(sqr(6))"
   ]
  },
  {
   "cell_type": "code",
   "execution_count": 29,
   "id": "5f08ab25",
   "metadata": {},
   "outputs": [
    {
     "name": "stdout",
     "output_type": "stream",
     "text": [
      "Enter the number :26\n",
      "square is 676\n"
     ]
    }
   ],
   "source": [
    "a=int (input(\"Enter the number :\"))\n",
    "def sqr(a):\n",
    "    b=a**2\n",
    "    print(f\"square is {b}\")\n",
    "sqr (a)"
   ]
  },
  {
   "cell_type": "markdown",
   "id": "c9c2663d",
   "metadata": {},
   "source": [
    "Funtion creation using default Arguments"
   ]
  },
  {
   "cell_type": "code",
   "execution_count": 30,
   "id": "dd88e8c6",
   "metadata": {},
   "outputs": [],
   "source": [
    "def myfun(x,y=59):\n",
    "    print(\"x:\",x)\n",
    "    print(\"y:\",y)    "
   ]
  },
  {
   "cell_type": "code",
   "execution_count": 31,
   "id": "18160836",
   "metadata": {},
   "outputs": [
    {
     "name": "stdout",
     "output_type": "stream",
     "text": [
      "x: 10\n",
      "y: 89\n"
     ]
    }
   ],
   "source": [
    "myfun(10,89)"
   ]
  },
  {
   "cell_type": "markdown",
   "id": "ab8b4df4",
   "metadata": {},
   "source": [
    "# Funtion With *args and *kwargs"
   ]
  },
  {
   "cell_type": "code",
   "execution_count": 34,
   "id": "48abb6d2",
   "metadata": {},
   "outputs": [
    {
     "name": "stdout",
     "output_type": "stream",
     "text": [
      " The brillant student is Prachi\n"
     ]
    }
   ],
   "source": [
    "def fun1 (* student):\n",
    "    print(\" The brillant student is \"+ student[2])\n",
    "fun1 ('Dhara','Diya','Prachi','Jiya')    "
   ]
  },
  {
   "cell_type": "code",
   "execution_count": 40,
   "id": "72c07b6b",
   "metadata": {},
   "outputs": [
    {
     "name": "stdout",
     "output_type": "stream",
     "text": [
      " The brillant student is patel\n"
     ]
    }
   ],
   "source": [
    "def fun1 (** student):\n",
    "    print(\" The brillant student is \"+ student[\"lname\"])\n",
    "fun1(fname='Dhara',lname='patel')    "
   ]
  },
  {
   "cell_type": "markdown",
   "id": "0cdb13ef",
   "metadata": {},
   "source": [
    "# Lamda Funtion"
   ]
  },
  {
   "cell_type": "markdown",
   "id": "c7d12ea9",
   "metadata": {},
   "source": [
    "lamda arg:exp\n",
    "\n",
    "\n",
    "A lamda funtion is small anonymous funtion"
   ]
  },
  {
   "cell_type": "code",
   "execution_count": 1,
   "id": "3f41a564",
   "metadata": {},
   "outputs": [
    {
     "name": "stdout",
     "output_type": "stream",
     "text": [
      "Enter the Year:2004\n",
      "Leap Year\n"
     ]
    }
   ],
   "source": [
    "n=int(input(\"Enter the Year:\"))\n",
    "leap=lambda  y:(y%4== 0 and y%100 !=0) or y%400== 0\n",
    "if leap(n):\n",
    "    print(\"Leap Year\")\n",
    "else:\n",
    "    print(\" not Leap Year\")\n",
    "    "
   ]
  },
  {
   "cell_type": "code",
   "execution_count": 2,
   "id": "e5e06c56",
   "metadata": {},
   "outputs": [
    {
     "data": {
      "text/plain": [
       "15"
      ]
     },
     "execution_count": 2,
     "metadata": {},
     "output_type": "execute_result"
    }
   ],
   "source": [
    "x=lambda a:a+10\n",
    "x(5)"
   ]
  },
  {
   "cell_type": "markdown",
   "id": "c8cf3bac",
   "metadata": {},
   "source": [
    "# Python Module and Packages"
   ]
  },
  {
   "cell_type": "code",
   "execution_count": 3,
   "id": "da8b3f56",
   "metadata": {},
   "outputs": [
    {
     "name": "stdout",
     "output_type": "stream",
     "text": [
      "Requirement already satisfied: numpy in c:\\users\\admin\\documents\\anaconda d\\lib\\site-packages (1.21.5)\n",
      "Note: you may need to restart the kernel to use updated packages.\n"
     ]
    }
   ],
   "source": [
    "pip install numpy"
   ]
  },
  {
   "cell_type": "code",
   "execution_count": 5,
   "id": "31dba01f",
   "metadata": {},
   "outputs": [],
   "source": [
    "#import platform \n",
    "import platform"
   ]
  },
  {
   "cell_type": "code",
   "execution_count": 6,
   "id": "bc82c6ee",
   "metadata": {},
   "outputs": [
    {
     "data": {
      "text/plain": [
       "'Windows'"
      ]
     },
     "execution_count": 6,
     "metadata": {},
     "output_type": "execute_result"
    }
   ],
   "source": [
    "platform.system()"
   ]
  },
  {
   "cell_type": "code",
   "execution_count": 13,
   "id": "093c5513",
   "metadata": {},
   "outputs": [],
   "source": [
    "import math\n"
   ]
  },
  {
   "cell_type": "code",
   "execution_count": 14,
   "id": "aaad8a74",
   "metadata": {},
   "outputs": [
    {
     "data": {
      "text/plain": [
       "8"
      ]
     },
     "execution_count": 14,
     "metadata": {},
     "output_type": "execute_result"
    }
   ],
   "source": [
    "math . isqrt(64)\n"
   ]
  },
  {
   "cell_type": "code",
   "execution_count": 15,
   "id": "f6bc9bce",
   "metadata": {},
   "outputs": [
    {
     "data": {
      "text/plain": [
       "3.141592653589793"
      ]
     },
     "execution_count": 15,
     "metadata": {},
     "output_type": "execute_result"
    }
   ],
   "source": [
    "math.pi"
   ]
  },
  {
   "cell_type": "code",
   "execution_count": 16,
   "id": "8174b0fa",
   "metadata": {},
   "outputs": [
    {
     "data": {
      "text/plain": [
       "3628800"
      ]
     },
     "execution_count": 16,
     "metadata": {},
     "output_type": "execute_result"
    }
   ],
   "source": [
    "math.factorial(10)"
   ]
  },
  {
   "cell_type": "code",
   "execution_count": 17,
   "id": "e313373f",
   "metadata": {},
   "outputs": [
    {
     "data": {
      "text/plain": [
       "12"
      ]
     },
     "execution_count": 17,
     "metadata": {},
     "output_type": "execute_result"
    }
   ],
   "source": [
    "min(12,15,16)"
   ]
  },
  {
   "cell_type": "code",
   "execution_count": 18,
   "id": "9c7c9b8b",
   "metadata": {},
   "outputs": [
    {
     "data": {
      "text/plain": [
       "90"
      ]
     },
     "execution_count": 18,
     "metadata": {},
     "output_type": "execute_result"
    }
   ],
   "source": [
    "max(65,90,78)"
   ]
  },
  {
   "cell_type": "code",
   "execution_count": 19,
   "id": "5dfc361f",
   "metadata": {},
   "outputs": [
    {
     "data": {
      "text/plain": [
       "['__doc__',\n",
       " '__loader__',\n",
       " '__name__',\n",
       " '__package__',\n",
       " '__spec__',\n",
       " 'acos',\n",
       " 'acosh',\n",
       " 'asin',\n",
       " 'asinh',\n",
       " 'atan',\n",
       " 'atan2',\n",
       " 'atanh',\n",
       " 'ceil',\n",
       " 'comb',\n",
       " 'copysign',\n",
       " 'cos',\n",
       " 'cosh',\n",
       " 'degrees',\n",
       " 'dist',\n",
       " 'e',\n",
       " 'erf',\n",
       " 'erfc',\n",
       " 'exp',\n",
       " 'expm1',\n",
       " 'fabs',\n",
       " 'factorial',\n",
       " 'floor',\n",
       " 'fmod',\n",
       " 'frexp',\n",
       " 'fsum',\n",
       " 'gamma',\n",
       " 'gcd',\n",
       " 'hypot',\n",
       " 'inf',\n",
       " 'isclose',\n",
       " 'isfinite',\n",
       " 'isinf',\n",
       " 'isnan',\n",
       " 'isqrt',\n",
       " 'lcm',\n",
       " 'ldexp',\n",
       " 'lgamma',\n",
       " 'log',\n",
       " 'log10',\n",
       " 'log1p',\n",
       " 'log2',\n",
       " 'modf',\n",
       " 'nan',\n",
       " 'nextafter',\n",
       " 'perm',\n",
       " 'pi',\n",
       " 'pow',\n",
       " 'prod',\n",
       " 'radians',\n",
       " 'remainder',\n",
       " 'sin',\n",
       " 'sinh',\n",
       " 'sqrt',\n",
       " 'tan',\n",
       " 'tanh',\n",
       " 'tau',\n",
       " 'trunc',\n",
       " 'ulp']"
      ]
     },
     "execution_count": 19,
     "metadata": {},
     "output_type": "execute_result"
    }
   ],
   "source": [
    "dir(math)"
   ]
  },
  {
   "cell_type": "code",
   "execution_count": 21,
   "id": "8bbaf9fb",
   "metadata": {},
   "outputs": [
    {
     "ename": "NameError",
     "evalue": "name 'grattings' is not defined",
     "output_type": "error",
     "traceback": [
      "\u001b[1;31m---------------------------------------------------------------------------\u001b[0m",
      "\u001b[1;31mNameError\u001b[0m                                 Traceback (most recent call last)",
      "Input \u001b[1;32mIn [21]\u001b[0m, in \u001b[0;36m<cell line: 4>\u001b[1;34m()\u001b[0m\n\u001b[0;32m      2\u001b[0m     \u001b[38;5;28mprint\u001b[39m(\u001b[38;5;124m\"\u001b[39m\u001b[38;5;124mHello,\u001b[39m\u001b[38;5;124m\"\u001b[39m \u001b[38;5;241m+\u001b[39m name)\n\u001b[0;32m      3\u001b[0m     \u001b[38;5;28;01mimport\u001b[39;00m \u001b[38;5;21;01mgratting\u001b[39;00m\n\u001b[1;32m----> 4\u001b[0m \u001b[43mgrattings\u001b[49m\u001b[38;5;241m.\u001b[39mgratting(\u001b[38;5;124m\"\u001b[39m\u001b[38;5;124mDhara\u001b[39m\u001b[38;5;124m\"\u001b[39m)\n",
      "\u001b[1;31mNameError\u001b[0m: name 'grattings' is not defined"
     ]
    }
   ],
   "source": [
    "def gretting(name):\n",
    "    print(\"Hello,\" + name)\n",
    "    import gratting\n",
    "grattings.gratting(\"Dhara\")"
   ]
  },
  {
   "cell_type": "code",
   "execution_count": null,
   "id": "622a92ce",
   "metadata": {},
   "outputs": [],
   "source": []
  }
 ],
 "metadata": {
  "kernelspec": {
   "display_name": "Python 3 (ipykernel)",
   "language": "python",
   "name": "python3"
  },
  "language_info": {
   "codemirror_mode": {
    "name": "ipython",
    "version": 3
   },
   "file_extension": ".py",
   "mimetype": "text/x-python",
   "name": "python",
   "nbconvert_exporter": "python",
   "pygments_lexer": "ipython3",
   "version": "3.9.12"
  }
 },
 "nbformat": 4,
 "nbformat_minor": 5
}
