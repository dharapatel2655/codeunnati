{
 "cells": [
  {
   "cell_type": "markdown",
   "id": "2b3cc75a",
   "metadata": {},
   "source": [
    "# Lab4- Exception and Error handling"
   ]
  },
  {
   "cell_type": "markdown",
   "id": "c6e62766",
   "metadata": {},
   "source": [
    "# 1. Try block\n",
    "\n",
    "Example"
   ]
  },
  {
   "cell_type": "code",
   "execution_count": 1,
   "id": "b1515fb3",
   "metadata": {},
   "outputs": [
    {
     "name": "stdout",
     "output_type": "stream",
     "text": [
      "Here an exception occured\n"
     ]
    }
   ],
   "source": [
    "# The try block will generate an error,become x is not  defind:\n",
    "try:\n",
    "    print(x)\n",
    "except:\n",
    "    print(\"Here an exception occured\")"
   ]
  },
  {
   "cell_type": "code",
   "execution_count": 12,
   "id": "74b893f2",
   "metadata": {},
   "outputs": [
    {
     "name": "stdout",
     "output_type": "stream",
     "text": [
      "Yesh  !Your answer is : 1\n"
     ]
    }
   ],
   "source": [
    "def divide(x,y):\n",
    "    try:\n",
    "        result= x // y \n",
    "        print(\"Yesh  !Your answer is :\",result)\n",
    "    except zeroDivisionError:\n",
    "        print(\"sorry ! You are dividing by zero\")\n",
    "divide(3,2)"
   ]
  },
  {
   "cell_type": "markdown",
   "id": "26e92f2b",
   "metadata": {},
   "source": [
    "# 2. Except block"
   ]
  },
  {
   "cell_type": "code",
   "execution_count": 15,
   "id": "d8ab0a2b",
   "metadata": {},
   "outputs": [
    {
     "name": "stdout",
     "output_type": "stream",
     "text": [
      "sorry ! You are dividing by zero\n"
     ]
    }
   ],
   "source": [
    "def divide(x,y):\n",
    "    try:\n",
    "        result= x // y \n",
    "        print(\"Yeah !Your answer is :\",result)\n",
    "    except ZeroDivisionError:\n",
    "        print(\"sorry ! You are dividing by zero\")\n",
    "divide(3,0)"
   ]
  },
  {
   "cell_type": "markdown",
   "id": "d5a92ef1",
   "metadata": {},
   "source": [
    "# 3. Try except block"
   ]
  },
  {
   "cell_type": "code",
   "execution_count": 16,
   "id": "f7d7e0d0",
   "metadata": {},
   "outputs": [
    {
     "name": "stdout",
     "output_type": "stream",
     "text": [
      "-5.0\n",
      " a/b result in 0\n"
     ]
    }
   ],
   "source": [
    "def AbyB(a,b):\n",
    "    try:\n",
    "        c=((a+b) // (a-b))\n",
    "    except ZeroDivisionError:\n",
    "        print(\" a/b result in 0\")\n",
    "    else:\n",
    "        print(c)\n",
    "AbyB(2.0,3.0)\n",
    "AbyB(3.0,3.0)"
   ]
  },
  {
   "cell_type": "markdown",
   "id": "33b0d5b5",
   "metadata": {},
   "source": [
    "# 4. Finally except"
   ]
  },
  {
   "cell_type": "code",
   "execution_count": 18,
   "id": "086fad2d",
   "metadata": {},
   "outputs": [
    {
     "name": "stdout",
     "output_type": "stream",
     "text": [
      "can't divide by zero \n",
      "This is alwys executed\n"
     ]
    }
   ],
   "source": [
    "# python program for finally block\n",
    "try:\n",
    "    k=5//0\n",
    "    print(k)\n",
    "except ZeroDivisionError:\n",
    "    print(\"can't divide by zero \")\n",
    "finally:\n",
    "    print('This is alwys executed')"
   ]
  },
  {
   "cell_type": "code",
   "execution_count": 20,
   "id": "34775132",
   "metadata": {},
   "outputs": [
    {
     "name": "stdout",
     "output_type": "stream",
     "text": [
      "Object `kemchho` not found.\n"
     ]
    }
   ],
   "source": [
    "import kemchho?"
   ]
  },
  {
   "cell_type": "code",
   "execution_count": null,
   "id": "a4725a9e",
   "metadata": {},
   "outputs": [],
   "source": [
    "import kemchho"
   ]
  },
  {
   "cell_type": "code",
   "execution_count": 21,
   "id": "4f03113c",
   "metadata": {},
   "outputs": [
    {
     "data": {
      "text/plain": [
       "'22'"
      ]
     },
     "execution_count": 21,
     "metadata": {},
     "output_type": "execute_result"
    }
   ],
   "source": [
    "'2'+'2'"
   ]
  },
  {
   "cell_type": "code",
   "execution_count": null,
   "id": "7fec9b0c",
   "metadata": {},
   "outputs": [],
   "source": []
  }
 ],
 "metadata": {
  "kernelspec": {
   "display_name": "Python 3 (ipykernel)",
   "language": "python",
   "name": "python3"
  },
  "language_info": {
   "codemirror_mode": {
    "name": "ipython",
    "version": 3
   },
   "file_extension": ".py",
   "mimetype": "text/x-python",
   "name": "python",
   "nbconvert_exporter": "python",
   "pygments_lexer": "ipython3",
   "version": "3.9.12"
  }
 },
 "nbformat": 4,
 "nbformat_minor": 5
}
