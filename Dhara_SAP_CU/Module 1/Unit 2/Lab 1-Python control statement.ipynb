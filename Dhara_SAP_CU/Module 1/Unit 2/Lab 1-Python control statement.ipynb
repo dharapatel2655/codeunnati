{
 "cells": [
  {
   "cell_type": "markdown",
   "id": "7f712801",
   "metadata": {},
   "source": [
    "# Lab 1-Python control statement\n",
    "# if,else,elif,statement"
   ]
  },
  {
   "cell_type": "code",
   "execution_count": 1,
   "id": "42755177",
   "metadata": {},
   "outputs": [
    {
     "name": "stdout",
     "output_type": "stream",
     "text": [
      "yes,Its TRUE...!\n"
     ]
    }
   ],
   "source": [
    "if True :\n",
    "    print(\"yes,Its TRUE...!\")"
   ]
  },
  {
   "cell_type": "code",
   "execution_count": 5,
   "id": "4a154eae",
   "metadata": {},
   "outputs": [
    {
     "name": "stdout",
     "output_type": "stream",
     "text": [
      "Its False\n"
     ]
    }
   ],
   "source": [
    "X = False \n",
    "if X :\n",
    "    print(\"yes,Its TRUE...!\")\n",
    "else:\n",
    "        print (\"Its False\")"
   ]
  },
  {
   "cell_type": "code",
   "execution_count": 12,
   "id": "b19edb38",
   "metadata": {},
   "outputs": [
    {
     "name": "stdout",
     "output_type": "stream",
     "text": [
      " x is greater than 26\n"
     ]
    }
   ],
   "source": [
    "x=29\n",
    "if x<26:\n",
    "    print(\" x is less than 26\")\n",
    "else:\n",
    "    print(\" x is greater than 26\")"
   ]
  },
  {
   "cell_type": "code",
   "execution_count": 16,
   "id": "30ee24c6",
   "metadata": {},
   "outputs": [
    {
     "name": "stdout",
     "output_type": "stream",
     "text": [
      " welcome to Surat\n"
     ]
    }
   ],
   "source": [
    "city= \"Surat\"\n",
    "if city ==\"Baroda\":\n",
    "    print(\" welcome to Baroda\")\n",
    "elif city == \"Amadabad\":\n",
    "    print(\" welcome to Amadabad\")\n",
    "elif city ==\"Surat\":\n",
    "    print(\" welcome to Surat\")\n",
    "else :\n",
    "    print(\" welcome to my home\")\n",
    "   \n",
    "    \n",
    "    "
   ]
  },
  {
   "cell_type": "markdown",
   "id": "108eae57",
   "metadata": {},
   "source": [
    "# While Loop\n",
    "while condision: statement"
   ]
  },
  {
   "cell_type": "code",
   "execution_count": 19,
   "id": "3d5b6958",
   "metadata": {},
   "outputs": [
    {
     "name": "stdout",
     "output_type": "stream",
     "text": [
      " The count is: 0\n",
      " The count is: 1\n",
      " The count is: 2\n",
      " The count is: 3\n",
      " The count is: 4\n",
      " The count is: 5\n",
      " The count is: 6\n",
      " The count is: 7\n",
      " The count is: 8\n",
      "Good bye...!\n"
     ]
    }
   ],
   "source": [
    "count =0\n",
    "while (count <9):\n",
    "    print (' The count is:',count)\n",
    "    count =count+1\n",
    "print (\"Good bye...!\")"
   ]
  },
  {
   "cell_type": "code",
   "execution_count": 20,
   "id": "6c7724f0",
   "metadata": {},
   "outputs": [
    {
     "name": "stdout",
     "output_type": "stream",
     "text": [
      "0\n",
      "1\n",
      "2\n",
      "3\n",
      "4\n",
      "5\n",
      "6\n",
      "7\n",
      "8\n",
      "9\n",
      "10\n"
     ]
    }
   ],
   "source": [
    "i=0\n",
    "n=10\n",
    "while i<=10:\n",
    "    print(i)\n",
    "    i+=1"
   ]
  },
  {
   "cell_type": "markdown",
   "id": "6a5c2b1b",
   "metadata": {},
   "source": [
    "# For Loop"
   ]
  },
  {
   "cell_type": "code",
   "execution_count": 22,
   "id": "2205d2f0",
   "metadata": {},
   "outputs": [
    {
     "name": "stdout",
     "output_type": "stream",
     "text": [
      "1\n",
      "2\n",
      "3\n",
      "4\n",
      "5\n",
      "6\n",
      "7\n",
      "8\n",
      "9\n",
      "10\n"
     ]
    }
   ],
   "source": [
    "lst=[1,2,3,4,5,6,7,8,9,10]\n",
    "for i in lst:\n",
    "    print (i)"
   ]
  },
  {
   "cell_type": "code",
   "execution_count": 23,
   "id": "acbfc7e0",
   "metadata": {},
   "outputs": [
    {
     "name": "stdout",
     "output_type": "stream",
     "text": [
      "1\n",
      "2\n",
      "3\n",
      "4\n",
      "5\n",
      "6\n",
      "7\n",
      "8\n",
      "9\n"
     ]
    }
   ],
   "source": [
    "for i in range (1,10):\n",
    "    print (i)"
   ]
  },
  {
   "cell_type": "code",
   "execution_count": 27,
   "id": "f6226662",
   "metadata": {},
   "outputs": [
    {
     "name": "stdout",
     "output_type": "stream",
     "text": [
      "d\n",
      "h\n",
      "a\n",
      "r\n",
      "a\n"
     ]
    }
   ],
   "source": [
    "for letter in'dhara' :\n",
    "    print (letter)"
   ]
  },
  {
   "cell_type": "code",
   "execution_count": 28,
   "id": "64de4412",
   "metadata": {},
   "outputs": [
    {
     "name": "stdout",
     "output_type": "stream",
     "text": [
      "apple\n",
      "banana\n",
      "rashbarry\n",
      "kivi\n"
     ]
    }
   ],
   "source": [
    "fruits =['apple','banana','rashbarry','kivi']\n",
    "for fruit in fruits:\n",
    "    print(fruit)"
   ]
  },
  {
   "cell_type": "code",
   "execution_count": 30,
   "id": "96b52380",
   "metadata": {
    "scrolled": true
   },
   "outputs": [
    {
     "name": "stdout",
     "output_type": "stream",
     "text": [
      "2\n",
      "4\n",
      "6\n",
      "8\n",
      "10\n"
     ]
    }
   ],
   "source": [
    "lst=[1,2,3,4,5,6,7,8,9,10]\n",
    "for i in lst:\n",
    "    if i%2==0:\n",
    "        print (i)"
   ]
  },
  {
   "cell_type": "code",
   "execution_count": 32,
   "id": "30bc1b9f",
   "metadata": {},
   "outputs": [
    {
     "name": "stdout",
     "output_type": "stream",
     "text": [
      "1\n",
      "3\n",
      "5\n",
      "7\n",
      "9\n"
     ]
    }
   ],
   "source": [
    "lst=[1,2,3,4,5,6,7,8,9,10]\n",
    "for i in lst:\n",
    "    if i%2==1:\n",
    "        print (i)"
   ]
  },
  {
   "cell_type": "code",
   "execution_count": 31,
   "id": "cc507d3a",
   "metadata": {},
   "outputs": [
    {
     "name": "stdout",
     "output_type": "stream",
     "text": [
      "1 is odd number\n",
      "2 is even number\n",
      "3 is odd number\n",
      "4 is even number\n",
      "5 is odd number\n",
      "6 is even number\n",
      "7 is odd number\n",
      "8 is even number\n",
      "9 is odd number\n",
      "10 is even number\n"
     ]
    }
   ],
   "source": [
    "lst=[1,2,3,4,5,6,7,8,9,10]\n",
    "for i in lst:\n",
    "    if i%2==0:\n",
    "        print ('{} is even number'.format(i))\n",
    "    else:  \n",
    "         print ('{} is odd number'.format(i))"
   ]
  },
  {
   "cell_type": "code",
   "execution_count": 33,
   "id": "e9b3c204",
   "metadata": {},
   "outputs": [
    {
     "data": {
      "text/plain": [
       "[0, 1, 4, 9, 16, 25, 36, 49, 64]"
      ]
     },
     "execution_count": 33,
     "metadata": {},
     "output_type": "execute_result"
    }
   ],
   "source": [
    "sqr_1lst=[x**2 for x in range(0,9)]\n",
    "sqr_1lst"
   ]
  }
 ],
 "metadata": {
  "kernelspec": {
   "display_name": "Python 3 (ipykernel)",
   "language": "python",
   "name": "python3"
  },
  "language_info": {
   "codemirror_mode": {
    "name": "ipython",
    "version": 3
   },
   "file_extension": ".py",
   "mimetype": "text/x-python",
   "name": "python",
   "nbconvert_exporter": "python",
   "pygments_lexer": "ipython3",
   "version": "3.9.12"
  }
 },
 "nbformat": 4,
 "nbformat_minor": 5
}
