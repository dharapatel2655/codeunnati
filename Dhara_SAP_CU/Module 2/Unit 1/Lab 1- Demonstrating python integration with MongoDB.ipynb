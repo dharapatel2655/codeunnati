{
 "cells": [
  {
   "cell_type": "markdown",
   "id": "0ec3b183",
   "metadata": {},
   "source": [
    "# Lab1- Demonstrating python integration with MongoDB\n",
    "# import pymongo"
   ]
  },
  {
   "cell_type": "code",
   "execution_count": 3,
   "id": "33226df9",
   "metadata": {},
   "outputs": [
    {
     "name": "stdout",
     "output_type": "stream",
     "text": [
      "Requirement already satisfied: pymongo in c:\\users\\admin\\documents\\anaconda d\\lib\\site-packages (4.5.0)\n",
      "Requirement already satisfied: dnspython<3.0.0,>=1.16.0 in c:\\users\\admin\\documents\\anaconda d\\lib\\site-packages (from pymongo) (2.4.2)\n",
      "Note: you may need to restart the kernel to use updated packages.\n"
     ]
    }
   ],
   "source": [
    "pip install pymongo"
   ]
  },
  {
   "cell_type": "code",
   "execution_count": 4,
   "id": "f5a86fd3",
   "metadata": {},
   "outputs": [],
   "source": [
    "import  pymongo"
   ]
  },
  {
   "cell_type": "code",
   "execution_count": 8,
   "id": "c57a7c27",
   "metadata": {},
   "outputs": [],
   "source": [
    "myclient= pymongo.MongoClient(\"mongodb://localhost:27017/\")"
   ]
  },
  {
   "cell_type": "markdown",
   "id": "1adaa967",
   "metadata": {},
   "source": [
    "# Listing all the databases"
   ]
  },
  {
   "cell_type": "code",
   "execution_count": 9,
   "id": "f6f4c425",
   "metadata": {},
   "outputs": [
    {
     "data": {
      "text/plain": [
       "['admin', 'config', 'local']"
      ]
     },
     "execution_count": 9,
     "metadata": {},
     "output_type": "execute_result"
    }
   ],
   "source": [
    "myclient.list_database_names()"
   ]
  },
  {
   "cell_type": "markdown",
   "id": "61a051f2",
   "metadata": {},
   "source": [
    "# Accesing Specific database"
   ]
  },
  {
   "cell_type": "code",
   "execution_count": 12,
   "id": "6f308d7b",
   "metadata": {},
   "outputs": [],
   "source": [
    "My_db=myclient['tcs_db']"
   ]
  },
  {
   "cell_type": "code",
   "execution_count": 13,
   "id": "66512418",
   "metadata": {},
   "outputs": [
    {
     "data": {
      "text/plain": [
       "Database(MongoClient(host=['localhost:27017'], document_class=dict, tz_aware=False, connect=True), 'tcs_db')"
      ]
     },
     "execution_count": 13,
     "metadata": {},
     "output_type": "execute_result"
    }
   ],
   "source": [
    "My_db"
   ]
  },
  {
   "cell_type": "code",
   "execution_count": 14,
   "id": "305b7ff5",
   "metadata": {},
   "outputs": [
    {
     "data": {
      "text/plain": [
       "Collection(Database(MongoClient(host=['localhost:27017'], document_class=dict, tz_aware=False, connect=True), 'tcs_db'), 'stats')"
      ]
     },
     "execution_count": 14,
     "metadata": {},
     "output_type": "execute_result"
    }
   ],
   "source": [
    "My_db.stats"
   ]
  },
  {
   "cell_type": "markdown",
   "id": "665fdb46",
   "metadata": {},
   "source": [
    "# list all collections inside databace"
   ]
  },
  {
   "cell_type": "code",
   "execution_count": 15,
   "id": "201aaca2",
   "metadata": {},
   "outputs": [],
   "source": [
    "import  pymongo"
   ]
  },
  {
   "cell_type": "code",
   "execution_count": 16,
   "id": "1728c427",
   "metadata": {},
   "outputs": [],
   "source": [
    "myclient= pymongo.MongoClient(\"mongodb://localhost:27017/\")"
   ]
  },
  {
   "cell_type": "code",
   "execution_count": 18,
   "id": "efb38328",
   "metadata": {},
   "outputs": [],
   "source": [
    "tcs_db=myclient['tcs_db']"
   ]
  },
  {
   "cell_type": "code",
   "execution_count": 19,
   "id": "d6915e4a",
   "metadata": {},
   "outputs": [],
   "source": [
    "emp_coll=tcs_db['emp_coll']"
   ]
  },
  {
   "cell_type": "markdown",
   "id": "372aaff6",
   "metadata": {},
   "source": [
    "# However,the databace amd collection are not created untill you add them.lets fill,them with data"
   ]
  },
  {
   "cell_type": "code",
   "execution_count": 31,
   "id": "7561eb44",
   "metadata": {},
   "outputs": [],
   "source": [
    "document ={\n",
    "    \"Name\":\"Dhara\",\n",
    "    \"Age\":18,\n",
    "    \"State\":\"Gujarat\",\n",
    "    \"profile\":\"Developer\",\n",
    "    \"Salary\":78000, \n",
    "    \"Experience\":6,\n",
    "    \"skills\":[\"PHP\",\"MySQL\"]\n",
    "    \n",
    "}"
   ]
  },
  {
   "cell_type": "code",
   "execution_count": 29,
   "id": "ca435f35",
   "metadata": {},
   "outputs": [
    {
     "data": {
      "text/plain": [
       "<pymongo.results.InsertOneResult at 0x1beee1d38b0>"
      ]
     },
     "execution_count": 29,
     "metadata": {},
     "output_type": "execute_result"
    }
   ],
   "source": [
    "emp_coll.insert_one(document)"
   ]
  },
  {
   "cell_type": "markdown",
   "id": "b2977377",
   "metadata": {},
   "source": [
    "# lnserting Multiple Document Using insert_Many()methods"
   ]
  },
  {
   "cell_type": "code",
   "execution_count": 38,
   "id": "59ddbec1",
   "metadata": {},
   "outputs": [],
   "source": [
    "emp_data  =[{\n",
    "    \"Name\":\"Dhara\",\n",
    "    \"Age\":18,\n",
    "    \"State\":\"Gujarat\",\n",
    "    \"profile\":\"Developer\",\n",
    "    \"Salary\":78000,\n",
    "    \"Experience\":6,\n",
    "    \"skills\":[\"PHP\",\"MySQL\"]\n",
    "    \n",
    "},\n",
    "{\n",
    "    \"Name\":\"Diya\",\n",
    "    \"Age\":20,\n",
    "    \"State\":\"Gujarat\",\n",
    "    \"profile\":\"Developer\",\n",
    "    \"Salary\":76000,\n",
    "    \"Experience\":5,\n",
    "    \"skills\":[\"PHP\",\"MySQL\"]\n",
    "    \n",
    "},\n",
    "{\n",
    "    \"Name\":\"Jiya\",\n",
    "    \"Age\":19,\n",
    "    \"State\":\"Gujarat\",\n",
    "    \"profile\":\"Developer\",\n",
    "    \"Salary\":74000,\n",
    "    \"Experience\":7,\n",
    "    \"skills\":[\"PHP\",\"MySQL\"]\n",
    "    \n",
    "}\n",
    "]"
   ]
  },
  {
   "cell_type": "code",
   "execution_count": 39,
   "id": "336ae486",
   "metadata": {},
   "outputs": [],
   "source": [
    "emp=emp_coll.insert_many(emp_data)"
   ]
  },
  {
   "cell_type": "code",
   "execution_count": null,
   "id": "d0cd9103",
   "metadata": {},
   "outputs": [],
   "source": []
  }
 ],
 "metadata": {
  "kernelspec": {
   "display_name": "Python 3 (ipykernel)",
   "language": "python",
   "name": "python3"
  },
  "language_info": {
   "codemirror_mode": {
    "name": "ipython",
    "version": 3
   },
   "file_extension": ".py",
   "mimetype": "text/x-python",
   "name": "python",
   "nbconvert_exporter": "python",
   "pygments_lexer": "ipython3",
   "version": "3.9.12"
  }
 },
 "nbformat": 4,
 "nbformat_minor": 5
}
