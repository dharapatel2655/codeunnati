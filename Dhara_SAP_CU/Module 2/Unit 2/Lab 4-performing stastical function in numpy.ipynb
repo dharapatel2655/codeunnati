{
 "cells": [
  {
   "cell_type": "markdown",
   "id": "529f76e7",
   "metadata": {},
   "source": [
    "# Lab 4-performing stastical function in numpy"
   ]
  },
  {
   "cell_type": "code",
   "execution_count": 1,
   "id": "a9bf4544",
   "metadata": {},
   "outputs": [
    {
     "name": "stdout",
     "output_type": "stream",
     "text": [
      "Mean: 30.0\n"
     ]
    }
   ],
   "source": [
    "import numpy as np\n",
    "\n",
    "data = np.array([10, 20, 30, 40, 50])\n",
    "mean = np.mean(data)\n",
    "print(\"Mean:\", mean)"
   ]
  },
  {
   "cell_type": "code",
   "execution_count": 4,
   "id": "4b5cade8",
   "metadata": {},
   "outputs": [
    {
     "name": "stdout",
     "output_type": "stream",
     "text": [
      "75th Percentile: 40.0\n"
     ]
    }
   ],
   "source": [
    "import numpy as np\n",
    "\n",
    "data = np.array([10, 20, 30, 40, 50])\n",
    "percentile_75 = np.percentile(data, 75)\n",
    "print(\"75th Percentile:\", percentile_75)"
   ]
  },
  {
   "cell_type": "code",
   "execution_count": 5,
   "id": "05de9420",
   "metadata": {},
   "outputs": [
    {
     "ename": "SyntaxError",
     "evalue": "invalid syntax (3611333962.py, line 1)",
     "output_type": "error",
     "traceback": [
      "\u001b[1;36m  Input \u001b[1;32mIn [5]\u001b[1;36m\u001b[0m\n\u001b[1;33m    vimport numpy as np\u001b[0m\n\u001b[1;37m            ^\u001b[0m\n\u001b[1;31mSyntaxError\u001b[0m\u001b[1;31m:\u001b[0m invalid syntax\n"
     ]
    }
   ],
   "source": [
    "vimport numpy as np\n",
    "\n",
    "data = np.array([10, 5, 20, 15, 30])\n",
    "minimum = np.amin(data)\n",
    "\n",
    "print(\"Array:\", data)\n",
    "print(\"Minimum Value:\", minimum)"
   ]
  },
  {
   "cell_type": "code",
   "execution_count": 3,
   "id": "54357fb9",
   "metadata": {},
   "outputs": [
    {
     "name": "stdout",
     "output_type": "stream",
     "text": [
      "Mean: 30.0\n",
      "median: 30.0\n",
      "max: 50\n",
      "min: 10\n"
     ]
    }
   ],
   "source": [
    "import numpy as np\n",
    "\n",
    "data = np.array([10, 20, 30, 40, 50])\n",
    "mean = np.mean(data)\n",
    "print(\"Mean:\", mean)\n",
    "median=np.median(data)\n",
    "print(\"median:\",median)\n",
    "\n",
    "max=np.max(data)\n",
    "print(\"max:\",max)\n",
    "\n",
    "min=np.min(data)\n",
    "print(\"min:\",min)\n"
   ]
  },
  {
   "cell_type": "code",
   "execution_count": null,
   "id": "fd80ce0b",
   "metadata": {},
   "outputs": [],
   "source": []
  }
 ],
 "metadata": {
  "kernelspec": {
   "display_name": "Python 3 (ipykernel)",
   "language": "python",
   "name": "python3"
  },
  "language_info": {
   "codemirror_mode": {
    "name": "ipython",
    "version": 3
   },
   "file_extension": ".py",
   "mimetype": "text/x-python",
   "name": "python",
   "nbconvert_exporter": "python",
   "pygments_lexer": "ipython3",
   "version": "3.9.12"
  }
 },
 "nbformat": 4,
 "nbformat_minor": 5
}
