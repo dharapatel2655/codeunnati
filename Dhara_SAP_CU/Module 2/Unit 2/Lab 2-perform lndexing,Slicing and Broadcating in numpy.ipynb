{
 "cells": [
  {
   "cell_type": "markdown",
   "id": "5029d048",
   "metadata": {},
   "source": [
    "# Lab 2-perform lndexing,Slicing and Broadcating in numpy\n",
    "\n",
    "# program 1 -indexing in numpy"
   ]
  },
  {
   "cell_type": "code",
   "execution_count": 9,
   "id": "f9758f74",
   "metadata": {},
   "outputs": [
    {
     "name": "stdout",
     "output_type": "stream",
     "text": [
      "array arr 11: [0 1 2 3]\n",
      " Element at index 0 0f arri is: 0\n",
      " Element at index 1 0f arr1 is: 1\n"
     ]
    }
   ],
   "source": [
    "import numpy as np\n",
    "arr1=np.arange(4)\n",
    "print(\"array arr 11:\",arr1)\n",
    "print(\" Element at index 0 0f arri is:\",arr1[0])\n",
    "print(\" Element at index 1 0f arr1 is:\",arr1[1])\n"
   ]
  },
  {
   "cell_type": "markdown",
   "id": "4c37799f",
   "metadata": {},
   "source": [
    "# lndexing in 2 Dimentions"
   ]
  },
  {
   "cell_type": "code",
   "execution_count": 11,
   "id": "f8fea3fb",
   "metadata": {},
   "outputs": [
    {
     "name": "stdout",
     "output_type": "stream",
     "text": [
      "array arr1:\n",
      " [[ 0  1  2  3]\n",
      " [ 4  5  6  7]\n",
      " [ 8  9 10 11]]\n",
      " Element at index 0 0f arri is: [0 1 2 3]\n",
      " Element at index 1 0f arr1 is: [4 5 6 7]\n"
     ]
    }
   ],
   "source": [
    "import numpy as np\n",
    "arr1=np.arange(12)\n",
    "arr1=arr1.reshape(3,4)\n",
    "print(\"array arr1:\\n\",arr1)\n",
    "print(\" Element at index 0 0f arri is:\",arr1[0])\n",
    "print(\" Element at index 1 0f arr1 is:\",arr1[1])\n"
   ]
  },
  {
   "cell_type": "markdown",
   "id": "a8117454",
   "metadata": {},
   "source": [
    "# lndexing in 3 Dimetion"
   ]
  },
  {
   "cell_type": "code",
   "execution_count": 13,
   "id": "22b01781",
   "metadata": {},
   "outputs": [
    {
     "name": "stdout",
     "output_type": "stream",
     "text": [
      "array arr1:\n",
      " [[[ 0  1  2]\n",
      "  [ 3  4  5]]\n",
      "\n",
      " [[ 6  7  8]\n",
      "  [ 9 10 11]]]\n",
      "Element: 11\n"
     ]
    }
   ],
   "source": [
    "arr1=np.arange(12)\n",
    "arr1=arr1.reshape(2,2,3)\n",
    "print(\"array arr1:\\n\",arr1)\n",
    "print(\"Element:\",arr1[1,1,2])\n"
   ]
  },
  {
   "cell_type": "markdown",
   "id": "6bee12e4",
   "metadata": {},
   "source": [
    "# program 2-Slicing an array"
   ]
  },
  {
   "cell_type": "markdown",
   "id": "12b18126",
   "metadata": {},
   "source": [
    "# slicling 1D Numpy Array"
   ]
  },
  {
   "cell_type": "code",
   "execution_count": 15,
   "id": "3ed6b33f",
   "metadata": {},
   "outputs": [
    {
     "name": "stdout",
     "output_type": "stream",
     "text": [
      "array arr: [0 1 2 3 4 5]\n",
      "[1 2 3 4]\n"
     ]
    }
   ],
   "source": [
    "arr=np.arange (6)\n",
    "print(\"array arr:\",arr)\n",
    "print(arr[1:5])"
   ]
  },
  {
   "cell_type": "markdown",
   "id": "dfdf980f",
   "metadata": {},
   "source": [
    "# slicling 2D Numpy Array"
   ]
  },
  {
   "cell_type": "code",
   "execution_count": 18,
   "id": "39550d64",
   "metadata": {},
   "outputs": [
    {
     "name": "stdout",
     "output_type": "stream",
     "text": [
      "Array arr1:\n",
      " [[[ 0  1  2]\n",
      "  [ 3  4  5]]\n",
      "\n",
      " [[ 6  7  8]\n",
      "  [ 9 10 11]]]\n",
      "\n",
      "\n",
      "Element at 1st row and 1st colum upto last colum\n",
      ": [[[ 9 10 11]]]\n"
     ]
    }
   ],
   "source": [
    "arr=np.arange (12)\n",
    "arr=arr.reshape(3,4)\n",
    "print(\"Array arr1:\\n\",arr1)\n",
    "print(\"\\n\")\n",
    "print(\"Element at 1st row and 1st colum upto last colum\\n:\",arr1[1:,1:4])\n"
   ]
  },
  {
   "cell_type": "code",
   "execution_count": 20,
   "id": "9049cf2d",
   "metadata": {},
   "outputs": [],
   "source": [
    "arr=np.arange(1,10)\n",
    "arr1=arr.reshape(3,3)"
   ]
  },
  {
   "cell_type": "markdown",
   "id": "d42b17d0",
   "metadata": {},
   "source": [
    "# program 3-Numpy Bordcating"
   ]
  },
  {
   "cell_type": "code",
   "execution_count": null,
   "id": "34b97352",
   "metadata": {},
   "outputs": [],
   "source": [
    "import numpy as np\n",
    "#creste a 3*3 array\n",
    "arr=np.array([[1,2,3],\n",
    "              [4,5,6]\n",
    "              [7,8,9]])\n",
    "scalar=10\n",
    "result=arr+scslar\n"
   ]
  }
 ],
 "metadata": {
  "kernelspec": {
   "display_name": "Python 3 (ipykernel)",
   "language": "python",
   "name": "python3"
  },
  "language_info": {
   "codemirror_mode": {
    "name": "ipython",
    "version": 3
   },
   "file_extension": ".py",
   "mimetype": "text/x-python",
   "name": "python",
   "nbconvert_exporter": "python",
   "pygments_lexer": "ipython3",
   "version": "3.9.12"
  }
 },
 "nbformat": 4,
 "nbformat_minor": 5
}
