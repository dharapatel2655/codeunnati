{
 "cells": [
  {
   "cell_type": "markdown",
   "id": "b71532d2",
   "metadata": {},
   "source": [
    "# Lab 3 -Working with structure array in numpy"
   ]
  },
  {
   "cell_type": "code",
   "execution_count": 3,
   "id": "d204d6f7",
   "metadata": {},
   "outputs": [
    {
     "name": "stdout",
     "output_type": "stream",
     "text": [
      "[('Dhara', 2, 21.) ('Nidhi', 7, 29.)]\n"
     ]
    }
   ],
   "source": [
    "#Python program to demonstrate\n",
    "# Structured array\n",
    "import numpy as np\n",
    "a = np.array([('Dhara', 2, 21.0),\n",
    "              ('Nidhi', 7, 29.0)],\n",
    "             dtype=[('name', (np. str_, 10)), ('age', np.int32), ('weight', np.float64)])\n",
    "print(a)"
   ]
  },
  {
   "cell_type": "code",
   "execution_count": 1,
   "id": "9a03ac5c",
   "metadata": {},
   "outputs": [
    {
     "name": "stdout",
     "output_type": "stream",
     "text": [
      "[('Sana', 2, 21.) ('Mansi', 7, 29.)]\n"
     ]
    }
   ],
   "source": [
    "#Python program to demonstrate\n",
    "# Structured array\n",
    "import numpy as np\n",
    "a = np.array([('Sana', 2, 21.0), ('Mansi', 7, 29.0)], dtype=[('name', (np. str_, 10)), ('age', np.int32), ('weight', np.float64)])\n",
    "print(a)"
   ]
  },
  {
   "cell_type": "code",
   "execution_count": 2,
   "id": "48681909",
   "metadata": {},
   "outputs": [
    {
     "name": "stdout",
     "output_type": "stream",
     "text": [
      "Structured Array:\n",
      "[(b'Alice', 25, 60000.) (b'Bob', 30, 75000.) (b'Charlie', 22, 50000.)]\n",
      "\n",
      "Names: [b'Alice' b'Bob' b'Charlie']\n",
      "\n",
      "Updated Salary:\n",
      "[(b'Alice', 25, 66000.) (b'Bob', 30, 82500.) (b'Charlie', 22, 55000.)]\n"
     ]
    }
   ],
   "source": [
    "import numpy as np\n",
    "\n",
    "# Define the data types for the fields\n",
    "dt = np.dtype([('name', 'S20'), ('age', int), ('salary', float)])\n",
    "\n",
    "# Create a structured array with three elements\n",
    "data = np.array([('Alice', 25, 60000.0),\n",
    "                 ('Bob', 30, 75000.0),\n",
    "                 ('Charlie', 22, 50000.0)], dtype=dt)\n",
    "\n",
    "# Accessing and manipulating the structured array\n",
    "print(\"Structured Array:\")\n",
    "print(data)\n",
    "\n",
    "# Accessing a specific field of all elements\n",
    "print(\"\\nNames:\", data['name'])\n",
    "\n",
    "# Applying operations to a specific field\n",
    "data['salary'] *= 1.1\n",
    "\n",
    "print(\"\\nUpdated Salary:\")\n",
    "print(data)"
   ]
  }
 ],
 "metadata": {
  "kernelspec": {
   "display_name": "Python 3 (ipykernel)",
   "language": "python",
   "name": "python3"
  },
  "language_info": {
   "codemirror_mode": {
    "name": "ipython",
    "version": 3
   },
   "file_extension": ".py",
   "mimetype": "text/x-python",
   "name": "python",
   "nbconvert_exporter": "python",
   "pygments_lexer": "ipython3",
   "version": "3.9.12"
  }
 },
 "nbformat": 4,
 "nbformat_minor": 5
}
